{
 "cells": [
  {
   "cell_type": "code",
   "execution_count": 1,
   "id": "772d58a8",
   "metadata": {},
   "outputs": [],
   "source": [
    "# head of the DataFrame.\n",
    "\n",
    "#                                     DataFrame.head() "
   ]
  },
  {
   "cell_type": "code",
   "execution_count": 2,
   "id": "6ff1dc99",
   "metadata": {},
   "outputs": [],
   "source": [
    "# information about the column types and missing values in dataframe.\n",
    "\n",
    "#                                     DataFrame.info() "
   ]
  },
  {
   "cell_type": "code",
   "execution_count": 3,
   "id": "bae19935",
   "metadata": {},
   "outputs": [],
   "source": [
    "# number of rows and columns in dataframe.\n",
    "  \n",
    "#                                     DataFrame.shape"
   ]
  },
  {
   "cell_type": "code",
   "execution_count": 4,
   "id": "f9449c60",
   "metadata": {},
   "outputs": [],
   "source": [
    "# summary statistics that describe the DataFrame.\n",
    "\n",
    "#                                     DataFrame.describe()"
   ]
  },
  {
   "cell_type": "code",
   "execution_count": 5,
   "id": "1810631b",
   "metadata": {},
   "outputs": [],
   "source": [
    "# values of DataFrame \n",
    "\n",
    "#                                     DataFrame.values"
   ]
  },
  {
   "cell_type": "code",
   "execution_count": 6,
   "id": "6653a013",
   "metadata": {},
   "outputs": [],
   "source": [
    "# column names of DataFrame\n",
    "\n",
    "#                                     DataFrame.columns "
   ]
  },
  {
   "cell_type": "code",
   "execution_count": 7,
   "id": "a77cdf71",
   "metadata": {},
   "outputs": [],
   "source": [
    "# index of DataFrame\n",
    "\n",
    "#                                     DataFrame.index"
   ]
  },
  {
   "cell_type": "code",
   "execution_count": 8,
   "id": "2dd04e5d",
   "metadata": {},
   "outputs": [],
   "source": [
    "# Sorting Rows\n",
    "\n",
    "#                                     DataFrame.sort_values(\"Column\",ascending=False)\n",
    "#                                     DataFrame.sort_values([\"Column1\",\"Column2\"...],ascending=[False,True])"
   ]
  },
  {
   "cell_type": "code",
   "execution_count": 9,
   "id": "150ab61d",
   "metadata": {},
   "outputs": [],
   "source": [
    "# Subsetting Columns (Single and Multiple)\n",
    "\n",
    "#                                     DataFrame[\"Column\"]\n",
    "#                                     DataFrame[[\"Column1\",\"Columns2\"]]"
   ]
  },
  {
   "cell_type": "code",
   "execution_count": 10,
   "id": "cf049df4",
   "metadata": {},
   "outputs": [],
   "source": [
    "# Subsetting Rows\n",
    "\n",
    "#                                     DataFrame[\"column\"] > value\n",
    "# Example:                            Dogs[\"weight\"] > 10"
   ]
  },
  {
   "cell_type": "code",
   "execution_count": 11,
   "id": "add985db",
   "metadata": {},
   "outputs": [],
   "source": [
    "# Subsetting based on Data\n",
    "\n",
    "#                                     DataFrame[DataFrame[\"column\"] > value]\n",
    "# Example:                            Dogs[ Dogs[\"weight\"] > 10 ]"
   ]
  },
  {
   "cell_type": "code",
   "execution_count": 12,
   "id": "5f2f9834",
   "metadata": {},
   "outputs": [],
   "source": [
    "# Subsetting based on Multiple Conditions\n",
    "\n",
    "#                                     DataFrame[ DataFrame[\"Column1\"]==value1  &  DataFrame[\"Column2\"]==value2 ]\n",
    "# Example:                            Dogs[ Dogs[\"weight\"] > 10 & Dogs[\"color\"]=='white']"
   ]
  },
  {
   "cell_type": "code",
   "execution_count": 13,
   "id": "4a7374a9",
   "metadata": {},
   "outputs": [],
   "source": [
    "# Subsetting using .isin()\n",
    "\n",
    "#                                     DataFrame[\"Column\"].isin([\"value1\",\"value2\"])\n",
    "# Example:                            Dogs[ Dogs[\"color\"].isin(['white','brown'])"
   ]
  },
  {
   "cell_type": "code",
   "execution_count": 14,
   "id": "a522016d",
   "metadata": {},
   "outputs": [],
   "source": [
    "# Adding a new Column\n",
    "\n",
    "#                                     DataFrame[\"New Column\"] = DataFrame[\"Old Column\"]+any operation\n",
    "# Example:                            Dogs['Heigh CM'] = Dogs['Height']*100"
   ]
  },
  {
   "cell_type": "code",
   "execution_count": 15,
   "id": "9bf3c37b",
   "metadata": {},
   "outputs": [],
   "source": [
    "# Calculate mean of Values in Column\n",
    "\n",
    "#                                     DataFrame[\"Column\"].mean()\n",
    "# Example:                            Dogs['Height'].mean()"
   ]
  },
  {
   "cell_type": "code",
   "execution_count": 16,
   "id": "e2cb6a64",
   "metadata": {},
   "outputs": [],
   "source": [
    "# Calculate median of Values in Column\n",
    "\n",
    "#                                     DataFrame[\"Column\"].median()\n",
    "# Example:                            Dogs['Height'].median()"
   ]
  },
  {
   "cell_type": "code",
   "execution_count": 17,
   "id": "a8a5faad",
   "metadata": {},
   "outputs": [],
   "source": [
    "# Calculate mode of Values in Column\n",
    "\n",
    "#                                     DataFrame[\"Column\"].mode()\n",
    "# Example:                            Dogs['Height'].mode()"
   ]
  },
  {
   "cell_type": "code",
   "execution_count": 18,
   "id": "e9af24d8",
   "metadata": {},
   "outputs": [],
   "source": [
    "# Calculate minimum Value of a Column\n",
    "\n",
    "#                                     DataFrame[\"Column\"].min()\n",
    "# Example:                            Dogs['Height'].min()"
   ]
  },
  {
   "cell_type": "code",
   "execution_count": 19,
   "id": "5d6e2fc2",
   "metadata": {},
   "outputs": [],
   "source": [
    "# Calculate maximum Value of a Column\n",
    "\n",
    "#                                     DataFrame[\"Column\"].max()\n",
    "# Example:                            Dogs['Height'].max()"
   ]
  },
  {
   "cell_type": "code",
   "execution_count": 20,
   "id": "97ee476e",
   "metadata": {},
   "outputs": [],
   "source": [
    "# Calculate variance of Values in Column\n",
    "\n",
    "#                                     DataFrame[\"Column\"].var()\n",
    "# Example:                            Dogs['Height'].var()"
   ]
  },
  {
   "cell_type": "code",
   "execution_count": 21,
   "id": "5380b4da",
   "metadata": {},
   "outputs": [],
   "source": [
    "# Calculate standard Deviation of Values in Column\n",
    "\n",
    "#                                     DataFrame[\"Column\"].std()\n",
    "# Example:                            Dogs['Height'].std()"
   ]
  },
  {
   "cell_type": "code",
   "execution_count": 22,
   "id": "db8d0569",
   "metadata": {},
   "outputs": [],
   "source": [
    "# apply a function or a list of function names to be executed along one of the axis of the DataFrame(axis=0(row),axis=1(column))\n",
    "\n",
    "#                                     DataFrame[\"Column\"].agg(functionName,axis=0)\n",
    "\n",
    "#  Example:                           def toCM(column):\n",
    "#                                         return column*100\n",
    "#                                     Dogs['Height'].agg(toCM)               "
   ]
  },
  {
   "cell_type": "code",
   "execution_count": 23,
   "id": "b6abf28d",
   "metadata": {},
   "outputs": [],
   "source": [
    "# find cumulative sum\n",
    "\n",
    "#                                     DataFrame[\"Column\"].cumsum()\n",
    "# Example:                            Dogs[\"Height\"].cumsum()\n",
    "# .cummax(), .cummin(), .cumprod() all work in the same way"
   ]
  },
  {
   "cell_type": "code",
   "execution_count": 24,
   "id": "f4f3d2f3",
   "metadata": {},
   "outputs": [],
   "source": [
    "# remove Duplicate values in a Column\n",
    "\n",
    "#                                     DataFrame.drop_duplicates(subset='Column')\n",
    "# Example:                            Dogs.drop_duplicates(subset=\"Name\")"
   ]
  },
  {
   "cell_type": "code",
   "execution_count": 25,
   "id": "4bd1060a",
   "metadata": {},
   "outputs": [],
   "source": [
    "# count number of values\n",
    "\n",
    "#                                     DataFrame['Column'].value_counts(sort=False)\n",
    "# Example:                            Cars['Company'].value_counts()"
   ]
  },
  {
   "cell_type": "code",
   "execution_count": 26,
   "id": "8266bcd7",
   "metadata": {},
   "outputs": [],
   "source": [
    "# calculate proportion of values\n",
    "\n",
    "#                                     DataFrame['Column'].value_counts(normalize=True)\n",
    "# Example:                            Cars['Company'].value_counts(normalize=True)"
   ]
  },
  {
   "cell_type": "code",
   "execution_count": 27,
   "id": "54b2c270",
   "metadata": {},
   "outputs": [],
   "source": [
    "# Grouped Summaries\n",
    "\n",
    "#                                     DataFrame.groupby('Column1')['Column2'].function()\n",
    "# Example:                            Cars.groupby('Company')['max_speed'].max()"
   ]
  },
  {
   "cell_type": "code",
   "execution_count": 28,
   "id": "5e390ebd",
   "metadata": {},
   "outputs": [],
   "source": [
    "# Multiple Grouped Summaries\n",
    "\n",
    "#                                     DataFrame.groupby('Column1')['Column2'].agg([function1,function2,function3...])\n",
    "# Example:                            Cars.groupby('Company')['max_speed'].agg([max,min,sum])"
   ]
  },
  {
   "cell_type": "code",
   "execution_count": 29,
   "id": "30e6a4a2",
   "metadata": {},
   "outputs": [],
   "source": [
    "# Grouping by multiple Variables\n",
    "\n",
    "#                             DataFrame.groupby(['Column1','column2'])['Column2'].agg([function1,function2,function3...])\n",
    "# Example:                    Cars.groupby(['Company','model'])['max_speed'].agg([max,min,sum])"
   ]
  },
  {
   "cell_type": "code",
   "execution_count": 30,
   "id": "06300d98",
   "metadata": {},
   "outputs": [],
   "source": [
    "# Grouby to Pivot Table\n",
    "\n",
    "#                          DataFrame.pivot_table(values='Column2',index='Column1',aggfunc=function,fill_value='',margins=False)\n",
    "# Example:                 Cars.pivot_table(values='max_speed',index='Company')\n",
    "# Same Result as Block 27"
   ]
  },
  {
   "cell_type": "code",
   "execution_count": null,
   "id": "d378def7",
   "metadata": {},
   "outputs": [],
   "source": [
    "# Pivot on 2 variables\n",
    "\n",
    "#                        DataFrame.pivot_table(values='Column2',index='Column3',columns='column2')\n",
    "# Example:               Cars.pivot_table(values='max_speed',index='Company',columns='model')\n",
    "# Same Result as Block 29"
   ]
  },
  {
   "cell_type": "code",
   "execution_count": null,
   "id": "e01d28c1",
   "metadata": {},
   "outputs": [],
   "source": []
  }
 ],
 "metadata": {
  "kernelspec": {
   "display_name": "Python 3 (ipykernel)",
   "language": "python",
   "name": "python3"
  },
  "language_info": {
   "codemirror_mode": {
    "name": "ipython",
    "version": 3
   },
   "file_extension": ".py",
   "mimetype": "text/x-python",
   "name": "python",
   "nbconvert_exporter": "python",
   "pygments_lexer": "ipython3",
   "version": "3.9.12"
  }
 },
 "nbformat": 4,
 "nbformat_minor": 5
}
